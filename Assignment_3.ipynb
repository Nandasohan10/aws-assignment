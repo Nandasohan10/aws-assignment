{
 "cells": [
  {
   "cell_type": "markdown",
   "metadata": {
    "colab_type": "text",
    "id": "view-in-github"
   },
   "source": [
    "<a href=\"https://colab.research.google.com/github/Deepika441/Assignments/blob/main/Assignment_3.ipynb\" target=\"_parent\"><img src=\"https://colab.research.google.com/assets/colab-badge.svg\" alt=\"Open In Colab\"/></a>"
   ]
  },
  {
   "cell_type": "code",
   "execution_count": 2,
   "metadata": {
    "colab": {
     "base_uri": "https://localhost:8080/"
    },
    "id": "a352Gqn0x7vr",
    "outputId": "6224fa57-62bf-4433-a978-83da63368dce"
   },
   "outputs": [
    {
     "name": "stdout",
     "output_type": "stream",
     "text": [
      "Concatenated string: Hello World\n"
     ]
    }
   ],
   "source": [
    "s1 = \"Hello\"\n",
    "s2 = \"World\"\n",
    "concatenated_string = s1 + \" \" + s2\n",
    "print(\"Concatenated string:\", concatenated_string)"
   ]
  },
  {
   "cell_type": "code",
   "execution_count": 4,
   "metadata": {
    "colab": {
     "base_uri": "https://localhost:8080/"
    },
    "id": "HU6meO5tydwp",
    "outputId": "6c4b8e05-45a0-4732-89aa-44a7fa733944"
   },
   "outputs": [
    {
     "name": "stdout",
     "output_type": "stream",
     "text": [
      "Formatted string: Name: Nanda Sohan, Age: 20\n"
     ]
    }
   ],
   "source": [
    "name = \"Nanda Sohan\"\n",
    "age = 20\n",
    "formatted_string = \"Name: %s, Age: %d\" % (name, age)\n",
    "print(\"Formatted string:\", formatted_string)\n"
   ]
  },
  {
   "cell_type": "code",
   "execution_count": 6,
   "metadata": {
    "colab": {
     "base_uri": "https://localhost:8080/"
    },
    "id": "KRJb-n2Zy0SO",
    "outputId": "7a4406fa-b309-4bba-c3c5-77d631f297db"
   },
   "outputs": [
    {
     "name": "stdout",
     "output_type": "stream",
     "text": [
      "Formatted string: Name: Nanda Sohan, Age: 20\n"
     ]
    }
   ],
   "source": [
    "from string import Template\n",
    "template = Template(\"Name: $name, Age: $age\")\n",
    "formatted_string = template.substitute(name=name, age=age)\n",
    "print(\"Formatted string:\", formatted_string)"
   ]
  },
  {
   "cell_type": "code",
   "execution_count": 8,
   "metadata": {
    "colab": {
     "base_uri": "https://localhost:8080/"
    },
    "id": "Xgn9tasizLvE",
    "outputId": "d1d3f391-267c-42cc-a67e-8f894eaec1ff"
   },
   "outputs": [
    {
     "name": "stdout",
     "output_type": "stream",
     "text": [
      "Formatted string: Name: Nanda Sohan, Age: 20\n"
     ]
    }
   ],
   "source": [
    "formatted_string = \"Name: {}, Age: {}\".format(name, age)\n",
    "print(\"Formatted string:\", formatted_string)"
   ]
  },
  {
   "cell_type": "code",
   "execution_count": 9,
   "metadata": {
    "colab": {
     "base_uri": "https://localhost:8080/"
    },
    "id": "QpHO6jjMzNai",
    "outputId": "ef6956b6-983e-4762-9618-2bcfcb7b4a03"
   },
   "outputs": [
    {
     "name": "stdout",
     "output_type": "stream",
     "text": [
      "Addition result: 7\n"
     ]
    }
   ],
   "source": [
    "result_add = 4 + 3\n",
    "print(\"Addition result:\", result_add)"
   ]
  },
  {
   "cell_type": "code",
   "execution_count": 10,
   "metadata": {
    "colab": {
     "base_uri": "https://localhost:8080/"
    },
    "id": "7_5zSooPzRZn",
    "outputId": "65250013-51a6-4e16-9f91-f00d043a1c5a"
   },
   "outputs": [
    {
     "name": "stdout",
     "output_type": "stream",
     "text": [
      "Subtraction result: 7\n"
     ]
    }
   ],
   "source": [
    "result_sub = 9 - 2\n",
    "print(\"Subtraction result:\", result_sub)"
   ]
  },
  {
   "cell_type": "code",
   "execution_count": 11,
   "metadata": {
    "colab": {
     "base_uri": "https://localhost:8080/"
    },
    "id": "kAlmqWBQzXUE",
    "outputId": "4c417bbd-7972-49ac-f2a1-8b292594e26a"
   },
   "outputs": [
    {
     "name": "stdout",
     "output_type": "stream",
     "text": [
      "Multiplication result: 40\n"
     ]
    }
   ],
   "source": [
    "result_mul = 5 * 8\n",
    "print(\"Multiplication result:\", result_mul)"
   ]
  },
  {
   "cell_type": "code",
   "execution_count": 12,
   "metadata": {
    "colab": {
     "base_uri": "https://localhost:8080/"
    },
    "id": "onU3g8cxzdwf",
    "outputId": "5c5eaebb-ee0f-471d-bea4-a6489fd726de"
   },
   "outputs": [
    {
     "name": "stdout",
     "output_type": "stream",
     "text": [
      "Division result: 5.0\n"
     ]
    }
   ],
   "source": [
    "result_div =25 / 5\n",
    "print(\"Division result:\", result_div)"
   ]
  },
  {
   "cell_type": "code",
   "execution_count": 13,
   "metadata": {
    "colab": {
     "base_uri": "https://localhost:8080/"
    },
    "id": "AF4uX6kQzi7x",
    "outputId": "4af6e5eb-89be-4285-abe4-f8d59c8fa986"
   },
   "outputs": [
    {
     "name": "stdout",
     "output_type": "stream",
     "text": [
      "Exponentiation result: 3125\n"
     ]
    }
   ],
   "source": [
    "result_exp = 5 ** 5\n",
    "print(\"Exponentiation result:\", result_exp)"
   ]
  },
  {
   "cell_type": "code",
   "execution_count": 15,
   "metadata": {
    "colab": {
     "base_uri": "https://localhost:8080/"
    },
    "id": "lApgn_hKzpb2",
    "outputId": "a1cd79cb-8200-41de-87ac-1a640528a4c0"
   },
   "outputs": [
    {
     "name": "stdout",
     "output_type": "stream",
     "text": [
      "Modulus result: 0\n"
     ]
    }
   ],
   "source": [
    "result_mod = 100 % 2\n",
    "print(\"Modulus result:\", result_mod)"
   ]
  },
  {
   "cell_type": "code",
   "execution_count": 16,
   "metadata": {
    "colab": {
     "base_uri": "https://localhost:8080/"
    },
    "id": "2huNtWn5zxIE",
    "outputId": "49d20ab2-2eff-466d-e096-6620f823e1b8"
   },
   "outputs": [
    {
     "name": "stdout",
     "output_type": "stream",
     "text": [
      "After subtraction assignment: 80\n"
     ]
    }
   ],
   "source": [
    "x = 100\n",
    "x -= 20\n",
    "print(\"After subtraction assignment:\", x)"
   ]
  },
  {
   "cell_type": "code",
   "execution_count": 17,
   "metadata": {
    "colab": {
     "base_uri": "https://localhost:8080/"
    },
    "id": "wv3Mby_mz1bY",
    "outputId": "9c2597f6-7bb1-4656-8a00-65b24bce6e2b"
   },
   "outputs": [
    {
     "name": "stdout",
     "output_type": "stream",
     "text": [
      "After multiplication assignment: 16\n"
     ]
    }
   ],
   "source": [
    "y = 4\n",
    "y *= 4\n",
    "print(\"After multiplication assignment:\", y)\n"
   ]
  },
  {
   "cell_type": "code",
   "execution_count": 15,
   "metadata": {
    "colab": {
     "base_uri": "https://localhost:8080/"
    },
    "id": "0guVfsGLz5cV",
    "outputId": "465453ed-360d-4146-ab0a-8fa394f76357"
   },
   "outputs": [
    {
     "name": "stdout",
     "output_type": "stream",
     "text": [
      "After division assignment: 5.0\n"
     ]
    }
   ],
   "source": [
    "z = 20\n",
    "z /= 4\n",
    "print(\"After division assignment:\", z)"
   ]
  }
 ],
 "metadata": {
  "colab": {
   "authorship_tag": "ABX9TyM9imoTYDv/+v3CuH68vqpM",
   "include_colab_link": true,
   "provenance": []
  },
  "kernelspec": {
   "display_name": "Python 3 (ipykernel)",
   "language": "python",
   "name": "python3"
  },
  "language_info": {
   "codemirror_mode": {
    "name": "ipython",
    "version": 3
   },
   "file_extension": ".py",
   "mimetype": "text/x-python",
   "name": "python",
   "nbconvert_exporter": "python",
   "pygments_lexer": "ipython3",
   "version": "3.11.3"
  }
 },
 "nbformat": 4,
 "nbformat_minor": 1
}
