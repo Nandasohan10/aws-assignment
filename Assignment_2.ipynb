{
 "cells": [
  {
   "cell_type": "markdown",
   "metadata": {
    "colab_type": "text",
    "id": "view-in-github"
   },
   "source": [
    "<a href=\"https://colab.research.google.com/github/Deepika441/Assignments/blob/main/Assignment_2.ipynb\" target=\"_parent\"><img src=\"https://colab.research.google.com/assets/colab-badge.svg\" alt=\"Open In Colab\"/></a>"
   ]
  },
  {
   "cell_type": "code",
   "execution_count": 2,
   "metadata": {
    "colab": {
     "base_uri": "https://localhost:8080/"
    },
    "id": "rzZ03h1aue6_",
    "outputId": "dcc218f0-a51a-4cdd-f576-725b514f303d"
   },
   "outputs": [
    {
     "name": "stdout",
     "output_type": "stream",
     "text": [
      "Capitalize function: Aws with python\n",
      "Replicated .upper() function: AWS WITH PYTHON\n",
      "Replicated .lower() function: aws with python\n"
     ]
    }
   ],
   "source": [
    "string = \"aws with python\"\n",
    "capitalize_function = string.capitalize()\n",
    "upper_function = string.upper()\n",
    "lower_function = string.lower()\n",
    "print(\"Capitalize function:\", capitalize_function)\n",
    "print(\"Replicated .upper() function:\", upper_function)\n",
    "print(\"Replicated .lower() function:\", lower_function)"
   ]
  },
  {
   "cell_type": "code",
   "execution_count": 3,
   "metadata": {
    "colab": {
     "base_uri": "https://localhost:8080/"
    },
    "id": "3MVFovPCvncE",
    "outputId": "b6e92dc0-7018-4e4a-d86c-f655a76580fc"
   },
   "outputs": [
    {
     "name": "stdout",
     "output_type": "stream",
     "text": [
      "Odd sequence: [1, 65, 13, 65, 43, 13, 87, 9]\n"
     ]
    }
   ],
   "source": [
    "given_sequence = [1,2,34,65,13,2,65,96,43,13,22,87,232,9,78,76]\n",
    "odd_sequence = [num for num in given_sequence if num % 2 != 0]\n",
    "print(\"Odd sequence:\", odd_sequence)\n"
   ]
  },
  {
   "cell_type": "code",
   "execution_count": 6,
   "metadata": {
    "colab": {
     "base_uri": "https://localhost:8080/"
    },
    "id": "_EAzBMZVvtR9",
    "outputId": "b96ff7a1-8eec-43ee-8ea5-c7612ef142cc"
   },
   "outputs": [
    {
     "name": "stdout",
     "output_type": "stream",
     "text": [
      "Fruits with values more than 20: {'apple': 25, 'grapes': 80, 'guava': 30}\n"
     ]
    }
   ],
   "source": [
    "fruits = {'apple': 25, 'banana': 10, 'grapes': 80, 'orange': 10, 'blueberry': 5, 'guava': 30}\n",
    "\n",
    "fruits_more_than_20 = {key: value for key, value in fruits.items() if value > 20}\n",
    "print(\"Fruits with values more than 20:\", fruits_more_than_20)"
   ]
  }
 ],
 "metadata": {
  "colab": {
   "authorship_tag": "ABX9TyNlxhPE6oRxzSDrHKL/oNHU",
   "include_colab_link": true,
   "provenance": []
  },
  "kernelspec": {
   "display_name": "Python 3 (ipykernel)",
   "language": "python",
   "name": "python3"
  },
  "language_info": {
   "codemirror_mode": {
    "name": "ipython",
    "version": 3
   },
   "file_extension": ".py",
   "mimetype": "text/x-python",
   "name": "python",
   "nbconvert_exporter": "python",
   "pygments_lexer": "ipython3",
   "version": "3.11.3"
  }
 },
 "nbformat": 4,
 "nbformat_minor": 1
}
