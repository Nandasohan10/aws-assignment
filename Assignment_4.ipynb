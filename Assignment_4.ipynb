{
 "cells": [
  {
   "cell_type": "markdown",
   "metadata": {
    "colab_type": "text",
    "id": "view-in-github"
   },
   "source": [
    "<a href=\"https://colab.research.google.com/github/Deepika441/Assignments/blob/main/Assignment_4.ipynb\" target=\"_parent\"><img src=\"https://colab.research.google.com/assets/colab-badge.svg\" alt=\"Open In Colab\"/></a>"
   ]
  },
  {
   "cell_type": "code",
   "execution_count": 1,
   "metadata": {
    "colab": {
     "base_uri": "https://localhost:8080/"
    },
    "id": "BSDHQ3ij0LPu",
    "outputId": "ee908b1e-4c6a-49c4-863e-b8355aeaf59c"
   },
   "outputs": [
    {
     "name": "stdout",
     "output_type": "stream",
     "text": [
      "Upper case: JASWITHA\n",
      "Lower case: jaswitha\n",
      "Capitalized: Jaswitha\n",
      "Replaced: Jaswitha\n"
     ]
    }
   ],
   "source": [
    "# Define a string\n",
    "name = \"Jaswitha\"\n",
    "# Convert to upper case\n",
    "upper_case = name.upper()\n",
    "print(\"Upper case:\", upper_case)\n",
    "\n",
    "# Convert to lower case\n",
    "lower_case = name.lower()\n",
    "print(\"Lower case:\", lower_case)\n",
    "\n",
    "# Capitalize the string\n",
    "capitalized = name.capitalize()\n",
    "print(\"Capitalized:\", capitalized)\n",
    "\n",
    "# Replace 'e' with 'E'\n",
    "replaced = name.replace('e', 'E')\n",
    "print(\"Replaced:\", replaced)"
   ]
  },
  {
   "cell_type": "code",
   "execution_count": 2,
   "metadata": {
    "colab": {
     "base_uri": "https://localhost:8080/"
    },
    "id": "cHAJY8PQ3B_m",
    "outputId": "3c94a66d-9234-4776-8077-183447423b61"
   },
   "outputs": [
    {
     "name": "stdout",
     "output_type": "stream",
     "text": [
      "Extended list: [1, 2, 3, 4, 6, 7, 8]\n"
     ]
    }
   ],
   "source": [
    "# Define a list\n",
    "L = [1, 2, 3, 4]\n",
    "\n",
    "# Extend the list\n",
    "L.extend([5, 6, 7, 8])\n",
    "\n",
    "# Remove the 5th value\n",
    "del L[4]\n",
    "\n",
    "print(\"Extended list:\", L)"
   ]
  },
  {
   "cell_type": "code",
   "execution_count": 5,
   "metadata": {
    "colab": {
     "base_uri": "https://localhost:8080/"
    },
    "id": "EPln0j0o3KHa",
    "outputId": "f8f87966-b453-449a-d9cf-d9be0fb483f7"
   },
   "outputs": [
    {
     "name": "stdout",
     "output_type": "stream",
     "text": [
      "Updated dictionary: {'apple': 10, 'mango': 15, 'blueberry': 15}\n"
     ]
    }
   ],
   "source": [
    "# Define a dictionary\n",
    "d = {'apple': 10, 'banana': 0, 'mango': 15, 'grapes': 0, 'blueberry': 20}\n",
    "\n",
    "# Remove out of stock fruits (value == 0)\n",
    "out_of_stock = [key for key, value in d.items() if value == 0]\n",
    "for fruit in out_of_stock:\n",
    "    del d[fruit]\n",
    "\n",
    "# Update mango quantity to 15 and decrease pineapple by 5\n",
    "d['mango'] = 15\n",
    "d['blueberry'] -= 5\n",
    "\n",
    "print(\"Updated dictionary:\", d)"
   ]
  },
  {
   "cell_type": "code",
   "execution_count": 6,
   "metadata": {
    "colab": {
     "base_uri": "https://localhost:8080/"
    },
    "id": "3RZv-L7G3UHw",
    "outputId": "63d83d25-1399-4fc3-e546-0f82520d6608"
   },
   "outputs": [
    {
     "name": "stdout",
     "output_type": "stream",
     "text": [
      "[2, 4, 6, 8, 10, 12, 14, 16, 18]\n"
     ]
    }
   ],
   "source": [
    "# Given list\n",
    "a = [2, 4, 6, 8, 10]\n",
    "\n",
    "# Problem 1\n",
    "a += [12, 14, 16, 18]\n",
    "print(a)"
   ]
  },
  {
   "cell_type": "code",
   "execution_count": 7,
   "metadata": {
    "colab": {
     "base_uri": "https://localhost:8080/"
    },
    "id": "derLSYGn3h55",
    "outputId": "f37e4a2d-dd5a-46f9-94b3-efb56a6f05fd"
   },
   "outputs": [
    {
     "name": "stdout",
     "output_type": "stream",
     "text": [
      "[-18, -16, -14, -12, -10, -8, -6, -4, -2, 0]\n"
     ]
    }
   ],
   "source": [
    "# Problem 2\n",
    "a[:] = [-i for i in a][::-1] + [0]\n",
    "print(a)"
   ]
  },
  {
   "cell_type": "code",
   "execution_count": 8,
   "metadata": {
    "colab": {
     "base_uri": "https://localhost:8080/"
    },
    "id": "buLnapgn3mlK",
    "outputId": "b2c3251b-cc38-4a5c-b737-20a222be5810"
   },
   "outputs": [
    {
     "name": "stdout",
     "output_type": "stream",
     "text": [
      "[2, 3, 4, 5, 6, 7, 8, 10]\n"
     ]
    }
   ],
   "source": [
    "# Problem 3\n",
    "a[:] = [2, 3, 4, 5, 6, 7, 8, 10]\n",
    "print(a)"
   ]
  },
  {
   "cell_type": "code",
   "execution_count": 9,
   "metadata": {
    "colab": {
     "base_uri": "https://localhost:8080/"
    },
    "id": "5UD4wmAE3rEC",
    "outputId": "a883b20f-54a4-4526-bc10-fa5f2122a7c2"
   },
   "outputs": [
    {
     "name": "stdout",
     "output_type": "stream",
     "text": [
      "[2, 3, 4, 'a', 'b', 'c', 5, 6, 7, 8, 10]\n"
     ]
    }
   ],
   "source": [
    "# Problem 4\n",
    "a[3:3] = ['a', 'b', 'c']\n",
    "print(a)"
   ]
  },
  {
   "cell_type": "code",
   "execution_count": 10,
   "metadata": {
    "colab": {
     "base_uri": "https://localhost:8080/"
    },
    "id": "n97XdRnP3voP",
    "outputId": "f4f24c17-a615-40f4-c670-3e39c002cc1b"
   },
   "outputs": [
    {
     "name": "stdout",
     "output_type": "stream",
     "text": [
      "[2, 3, 4, 'a', 'b', 'c', 5, 6, 7, 8, 10]\n"
     ]
    }
   ],
   "source": [
    "\n",
    "# Problem 5\n",
    "a = a\n",
    "print(a)"
   ]
  },
  {
   "cell_type": "code",
   "execution_count": 11,
   "metadata": {
    "colab": {
     "base_uri": "https://localhost:8080/"
    },
    "id": "csGDGcvn3656",
    "outputId": "339337e1-dfea-4f19-d476-5bf6cb0d8791"
   },
   "outputs": [
    {
     "name": "stdout",
     "output_type": "stream",
     "text": [
      "[]\n"
     ]
    }
   ],
   "source": [
    "# Problem 6\n",
    "a[0:0] = []\n",
    "print(a[0:0])"
   ]
  },
  {
   "cell_type": "code",
   "execution_count": 12,
   "metadata": {
    "colab": {
     "base_uri": "https://localhost:8080/"
    },
    "id": "if_uTOz838_v",
    "outputId": "5ea3a05d-115e-4e7e-9f63-c1a74b982d6b"
   },
   "outputs": [
    {
     "name": "stdout",
     "output_type": "stream",
     "text": [
      "[10, 8, 7, 6, 5, 'c', 'b', 'a', 4, 3, 2]\n"
     ]
    }
   ],
   "source": [
    "# Problem 7\n",
    "print(a[::-1])"
   ]
  },
  {
   "cell_type": "code",
   "execution_count": 13,
   "metadata": {
    "colab": {
     "base_uri": "https://localhost:8080/"
    },
    "id": "262X0EU34BKf",
    "outputId": "b455fa43-738a-4ed1-f71b-ece3f969b073"
   },
   "outputs": [
    {
     "name": "stdout",
     "output_type": "stream",
     "text": [
      "[2, 3, 4]\n"
     ]
    }
   ],
   "source": [
    "# Problem 8\n",
    "print(a[0:3])"
   ]
  },
  {
   "cell_type": "code",
   "execution_count": 14,
   "metadata": {
    "colab": {
     "base_uri": "https://localhost:8080/"
    },
    "id": "Bdr9nNec4GnQ",
    "outputId": "37209d9c-8b7c-4b37-a6b6-39485e3b6c79"
   },
   "outputs": [
    {
     "name": "stdout",
     "output_type": "stream",
     "text": [
      "[4, 'a', 'b', 'c', 5, 6, 7, 8, 10]\n"
     ]
    }
   ],
   "source": [
    "# Problem 9\n",
    "print(a[2:])\n"
   ]
  },
  {
   "cell_type": "code",
   "execution_count": 15,
   "metadata": {
    "colab": {
     "base_uri": "https://localhost:8080/"
    },
    "id": "5GXQlZk94K3V",
    "outputId": "d410947d-b926-49c9-ca99-e9cc67819acd"
   },
   "outputs": [
    {
     "name": "stdout",
     "output_type": "stream",
     "text": [
      "[2, 'b', 'c', 5, 6, 7, 8, 10]\n"
     ]
    }
   ],
   "source": [
    "# Problem 10\n",
    "a[1:4] = []\n",
    "print(a)"
   ]
  },
  {
   "cell_type": "code",
   "execution_count": 16,
   "metadata": {
    "colab": {
     "base_uri": "https://localhost:8080/"
    },
    "id": "v_D15v5f4SDe",
    "outputId": "fc4299a6-54a9-4ee4-ac98-c5a3a88f5100"
   },
   "outputs": [
    {
     "name": "stdout",
     "output_type": "stream",
     "text": [
      "['b', 'c', 5]\n"
     ]
    }
   ],
   "source": [
    "# Problem 11\n",
    "print(a[1:4])"
   ]
  },
  {
   "cell_type": "code",
   "execution_count": 17,
   "metadata": {
    "colab": {
     "base_uri": "https://localhost:8080/"
    },
    "id": "SoJ3ZwNa4fX-",
    "outputId": "a7d911e9-c8d8-4299-fba9-0eb948e871f7"
   },
   "outputs": [
    {
     "name": "stdout",
     "output_type": "stream",
     "text": [
      "[2, 'b', 'c', 5, 6, 7, 8, 'b', 'c', 5, 6, 7, 8, 10, 12, 14, 16, 18, 20]\n"
     ]
    }
   ],
   "source": [
    "# Problem 12\n",
    "a[-1:] = a[1:] + [12, 14, 16, 18, 20]\n",
    "print(a)"
   ]
  },
  {
   "cell_type": "code",
   "execution_count": null,
   "metadata": {},
   "outputs": [],
   "source": []
  },
  {
   "cell_type": "code",
   "execution_count": null,
   "metadata": {},
   "outputs": [],
   "source": []
  }
 ],
 "metadata": {
  "colab": {
   "authorship_tag": "ABX9TyMfLSzwQ+9XkKPfvEeYwA+7",
   "include_colab_link": true,
   "provenance": []
  },
  "kernelspec": {
   "display_name": "Python 3 (ipykernel)",
   "language": "python",
   "name": "python3"
  },
  "language_info": {
   "codemirror_mode": {
    "name": "ipython",
    "version": 3
   },
   "file_extension": ".py",
   "mimetype": "text/x-python",
   "name": "python",
   "nbconvert_exporter": "python",
   "pygments_lexer": "ipython3",
   "version": "3.11.3"
  }
 },
 "nbformat": 4,
 "nbformat_minor": 1
}
